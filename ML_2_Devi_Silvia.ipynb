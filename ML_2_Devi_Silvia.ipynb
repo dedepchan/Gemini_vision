{
  "nbformat": 4,
  "nbformat_minor": 0,
  "metadata": {
    "colab": {
      "provenance": [],
      "authorship_tag": "ABX9TyMUSBqmLtKdrREn/eAPLXx0",
      "include_colab_link": true
    },
    "kernelspec": {
      "name": "python3",
      "display_name": "Python 3"
    },
    "language_info": {
      "name": "python"
    }
  },
  "cells": [
    {
      "cell_type": "markdown",
      "metadata": {
        "id": "view-in-github",
        "colab_type": "text"
      },
      "source": [
        "<a href=\"https://colab.research.google.com/github/dedepchan/Gemini_vision/blob/main/ML_2_Devi_Silvia.ipynb\" target=\"_parent\"><img src=\"https://colab.research.google.com/assets/colab-badge.svg\" alt=\"Open In Colab\"/></a>"
      ]
    },
    {
      "cell_type": "code",
      "execution_count": null,
      "metadata": {
        "id": "ds-4DazikpxP"
      },
      "outputs": [],
      "source": [
        "!pip install -q -U google-generativeai"
      ]
    },
    {
      "cell_type": "code",
      "source": [
        "import google.generativeai as genai\n",
        "from IPython.display import Markdown"
      ],
      "metadata": {
        "id": "n1BpxMCglYjJ"
      },
      "execution_count": null,
      "outputs": []
    },
    {
      "cell_type": "code",
      "source": [
        "from google.colab import userdata\n",
        "GOOGLE_API_KEY=userdata.get('GOOGLE_API_KEY')\n",
        "\n",
        "genai.configure(api_key=GOOGLE_API_KEY)"
      ],
      "metadata": {
        "id": "1W84fO2Olerr"
      },
      "execution_count": null,
      "outputs": []
    },
    {
      "cell_type": "code",
      "source": [
        "import httpx\n",
        "import base64\n",
        "\n",
        "# Retrieve an image\n",
        "image_path = \"https://upload.wikimedia.org/wikipedia/commons/thumb/8/87/Palace_of_Westminster_from_the_dome_on_Methodist_Central_Hall.jpg/2560px-Palace_of_Westminster_from_the_dome_on_Methodist_Central_Hall.jpg\"\n",
        "image = httpx.get(image_path)\n",
        "\n",
        "# Choose a Gemini model\n",
        "model = genai.GenerativeModel(model_name=\"gemini-1.5-pro\")\n",
        "\n",
        "# Create a prompt\n",
        "prompt = \"Caption this image.\"\n",
        "response = model.generate_content(\n",
        "    [\n",
        "        {\n",
        "            \"mime_type\": \"image/jpeg\",\n",
        "            \"data\": base64.b64encode(image.content).decode(\"utf-8\"),\n",
        "        },\n",
        "        prompt,\n",
        "    ]\n",
        ")\n",
        "\n",
        "Markdown(\">\" + response.text)"
      ],
      "metadata": {
        "id": "HPbJbr7hnR2A",
        "colab": {
          "base_uri": "https://localhost:8080/",
          "height": 97
        },
        "outputId": "49d7e866-6b69-4b6f-ce01-c45f31c14715"
      },
      "execution_count": 9,
      "outputs": [
        {
          "output_type": "execute_result",
          "data": {
            "text/plain": [
              "<IPython.core.display.Markdown object>"
            ],
            "text/markdown": ">A panoramic view of London showcases the iconic landmarks of Big Ben, the London Eye, and the Palace of Westminster under a dramatic, cloud-filled sky.  The image captures the density of the cityscape, with a mix of historic and modern architecture visible. The Thames River snakes through the scene, and green spaces offer a contrast to the urban sprawl.  In the foreground, rooftops and a street scene provide a sense of scale and perspective."
          },
          "metadata": {},
          "execution_count": 9
        }
      ]
    },
    {
      "cell_type": "code",
      "source": [
        "import httpx\n",
        "import base64\n",
        "\n",
        "# Retrieve two images\n",
        "image_path_1 = \"https://upload.wikimedia.org/wikipedia/commons/thumb/8/87/Palace_of_Westminster_from_the_dome_on_Methodist_Central_Hall.jpg/2560px-Palace_of_Westminster_from_the_dome_on_Methodist_Central_Hall.jpg\"\n",
        "image_path_2 = \"https://storage.googleapis.com/generativeai-downloads/images/jetpack.jpg\"\n",
        "\n",
        "image_1 = httpx.get(image_path_1)\n",
        "image_2 = httpx.get(image_path_2)\n",
        "\n",
        "# Create a prompt\n",
        "prompt = \"Generate a list of all the objects contained in both images.\"\n",
        "\n",
        "response = model.generate_content([\n",
        "{'mime_type':'image/jpeg', 'data': base64.b64encode(image_1.content).decode('utf-8')},\n",
        "{'mime_type':'image/jpeg', 'data': base64.b64encode(image_2.content).decode('utf-8')}, prompt])\n",
        "\n",
        "Markdown(response.text)"
      ],
      "metadata": {
        "colab": {
          "base_uri": "https://localhost:8080/",
          "height": 365
        },
        "id": "cyailjIzsypW",
        "outputId": "15c2feab-d7be-4887-b2ef-41574a667999"
      },
      "execution_count": 10,
      "outputs": [
        {
          "output_type": "execute_result",
          "data": {
            "text/plain": [
              "<IPython.core.display.Markdown object>"
            ],
            "text/markdown": "**Image 1: London Skyline**\n\n* London Eye (ferris wheel)\n* Houses of Parliament (including Big Ben/Elizabeth Tower)\n* The Shard (skyscraper)\n* Various other buildings and skyscrapers\n* Thames River\n* Trees\n* Cloudy sky\n\n**Image 2: Jetpack Backpack Sketch**\n\n* Backpack shape\n* Padded strap support\n* USB-C charging port\n* Retractible boosters with steam/smoke effect\n* Notes indicating:\n    * Fits 18\" laptop\n    * Lightweight, looks like a normal backpack\n    * 15-minute battery life\n    * Steam-powered, green/clean energy source"
          },
          "metadata": {},
          "execution_count": 10
        }
      ]
    },
    {
      "cell_type": "code",
      "source": [
        "import PIL.Image\n",
        "\n",
        "sample_file_2 = PIL.Image.open('car1.jpg')\n",
        "sample_file_3 = PIL.Image.open('car3.jpg')"
      ],
      "metadata": {
        "id": "RcMq9G6ctIiN"
      },
      "execution_count": 11,
      "outputs": []
    },
    {
      "cell_type": "code",
      "source": [
        "import google.generativeai as genai\n",
        "\n",
        "sample_file_4 = PIL.Image.open('car5.jpg')\n",
        "\n",
        "# Choose a Gemini model.\n",
        "model = genai.GenerativeModel(model_name=\"gemini-1.5-pro-latest\")\n",
        "\n",
        "# Create a prompt.\n",
        "prompt = \"read the car plat from picture, that shows plat_no, vehicle, vehicle_type, color, gate_open, gate_closed, that using JSON format with single apostrope\"\n",
        "\n",
        "response = model.generate_content([sample_file_4, prompt])\n",
        "\n",
        "Markdown(response.text)"
      ],
      "metadata": {
        "colab": {
          "base_uri": "https://localhost:8080/",
          "height": 226
        },
        "id": "OcpCGJc9tqLQ",
        "outputId": "b48bfb27-5cc4-47e5-f68e-e82f3465002f"
      },
      "execution_count": 39,
      "outputs": [
        {
          "output_type": "execute_result",
          "data": {
            "text/plain": [
              "<IPython.core.display.Markdown object>"
            ],
            "text/markdown": "```json\n{\n'plat_no': 'B 1966 RFR',\n'vehicle': 'Toyota Land Cruiser',\n'vehicle_type': 'SUV',\n'color': 'Black',\n'gate_open': null, \n'gate_closed': null\n}\n```\n\n**Explanation of Null Values:**\n\nThe image only shows the vehicle and its license plate. There's no information about gate activity (open or closed).  Therefore, those fields are assigned `null`. It would be inappropriate to make assumptions about these values without further data."
          },
          "metadata": {},
          "execution_count": 39
        }
      ]
    },
    {
      "cell_type": "code",
      "source": [
        "!curl -o jetpack.jpg https://storage.googleapis.com/generativeai-downloads/images/jetpack.jpg"
      ],
      "metadata": {
        "colab": {
          "base_uri": "https://localhost:8080/"
        },
        "id": "Wt9HYPOVzb_F",
        "outputId": "9dd1aa04-7161-4508-afa0-982e3c59dec6"
      },
      "execution_count": 19,
      "outputs": [
        {
          "output_type": "stream",
          "name": "stdout",
          "text": [
            "  % Total    % Received % Xferd  Average Speed   Time    Time     Time  Current\n",
            "                                 Dload  Upload   Total   Spent    Left  Speed\n",
            "\r  0     0    0     0    0     0      0      0 --:--:-- --:--:-- --:--:--     0\r100  349k  100  349k    0     0  2800k      0 --:--:-- --:--:-- --:--:-- 2816k\n"
          ]
        }
      ]
    },
    {
      "cell_type": "code",
      "source": [
        "# Upload the file and print a confirmation.\n",
        "sample_file = genai.upload_file(path=\"jetpack.jpg\",\n",
        "                            display_name=\"Jetpack drawing\")\n",
        "\n",
        "print(f\"Uploaded file '{sample_file.display_name}' as: {sample_file.uri}\")"
      ],
      "metadata": {
        "colab": {
          "base_uri": "https://localhost:8080/",
          "height": 34
        },
        "id": "yNaTuZ_szgPP",
        "outputId": "aa4dc72a-2c79-405a-d0a1-90446b94d01c"
      },
      "execution_count": 20,
      "outputs": [
        {
          "output_type": "stream",
          "name": "stdout",
          "text": [
            "Uploaded file 'Jetpack drawing' as: https://generativelanguage.googleapis.com/v1beta/files/hrcx4cq1rwca\n"
          ]
        }
      ]
    },
    {
      "cell_type": "code",
      "source": [
        "file = genai.get_file(name=sample_file.name)\n",
        "print(f\"Retrieved file '{file.display_name}' as: {sample_file.uri}\")"
      ],
      "metadata": {
        "colab": {
          "base_uri": "https://localhost:8080/",
          "height": 34
        },
        "id": "ZKbfmWpmzme0",
        "outputId": "73dfe3df-f2e4-4bfd-8510-32932d6b87a6"
      },
      "execution_count": 21,
      "outputs": [
        {
          "output_type": "stream",
          "name": "stdout",
          "text": [
            "Retrieved file 'Jetpack drawing' as: https://generativelanguage.googleapis.com/v1beta/files/hrcx4cq1rwca\n"
          ]
        }
      ]
    },
    {
      "cell_type": "code",
      "source": [
        "# Choose a Gemini model.\n",
        "model = genai.GenerativeModel(model_name=\"gemini-1.5-pro-latest\")\n",
        "\n",
        "# Prompt the model with text and the previously uploaded image.\n",
        "response = model.generate_content([sample_file, \"Describe how this product might be manufactured.\"])\n",
        "\n",
        "Markdown(response.text)"
      ],
      "metadata": {
        "colab": {
          "base_uri": "https://localhost:8080/",
          "height": 515
        },
        "id": "peBgks1Xzswo",
        "outputId": "d2972384-e8c1-4219-a993-2045546768d4"
      },
      "execution_count": 22,
      "outputs": [
        {
          "output_type": "execute_result",
          "data": {
            "text/plain": [
              "<IPython.core.display.Markdown object>"
            ],
            "text/markdown": "Manufacturing a jetpack backpack, even a conceptual steam-powered one, would involve a complex process combining several different manufacturing techniques:\n\n1. **Backpack Body:**  The backpack's outer shell could be injection molded from a lightweight, durable plastic like ABS or polycarbonate.  Internal compartments and padding would likely be sewn from nylon or polyester fabrics.\n\n2. **Strap System:** Padded straps would be produced via textile manufacturing processes, involving weaving, cutting, and sewing. Buckles and adjusters would be injection molded from plastics or die-cast from metals.\n\n3. **Retractable Boosters:**  These would require precision engineering.\n    * **Telescoping Mechanism:**  Likely made from lightweight, high-strength aluminum alloy using CNC machining or extrusion for the tubes, and injection molding for connecting components.  Small electric motors, controlled by a microcontroller, would manage retraction and extension.\n    * **Nozzles:** The steam nozzles would require high-temperature resistant materials, possibly ceramics or specialized metal alloys. These would be 3D printed or created via metal injection molding.\n\n4. **Steam Generation System:** This is the most challenging aspect and would necessitate careful design and material selection.\n    * **Micro-Boiler:** A compact, high-pressure boiler would need to be fabricated from stainless steel or titanium, potentially using a combination of welding, brazing, and additive manufacturing to achieve the intricate internal structure needed for efficient heat exchange.\n    * **Water Reservoir:** A flexible, sealed bladder or tank made of a heat-resistant, durable material (e.g., specialized silicone, high-temperature plastic) would hold the water for steam generation.  This might be thermoformed or injection molded.\n    * **Heating Element:** A compact, powerful electric heating element, likely a resistive heater or induction coil, would be incorporated into the boiler design.\n    * **Control System:**  A microcontroller and associated sensors (temperature, pressure, water level) would be needed to regulate steam production and ensure safe operation. These would be manufactured using standard electronic component manufacturing processes.\n\n5. **USB-C Charging System:** Standard USB-C charging ports and circuitry would be integrated into the backpack's design using existing electronic component manufacturing methods. The battery itself would likely be a lithium-ion polymer battery, manufactured through specialized electrochemical processes.\n\n6. **Assembly:**  Final assembly would involve integrating all components, potentially employing robotic assembly for tasks requiring high precision and repeatability. Quality control checks would be essential throughout the process to ensure safety and functionality.\n\n\nThis is a simplified overview.  A real-world steam-powered jetpack backpack would encounter significant engineering challenges related to safety, efficiency, and weight limitations.  Current technology isn't quite there yet to make this commercially viable.\n"
          },
          "metadata": {},
          "execution_count": 22
        }
      ]
    },
    {
      "cell_type": "code",
      "source": [
        "# Choose a Gemini model.\n",
        "model = genai.GenerativeModel(model_name=\"gemini-1.5-pro-latest\")\n",
        "\n",
        "# Create a prompt to detect bounding boxes.\n",
        "prompt = \"Return a bounding box for each of the objects in this image in [ymin, xmin, ymax, xmax] format.\"\n",
        "response = model.generate_content([sample_file_2, prompt])\n",
        "\n",
        "Markdown(response.text)"
      ],
      "metadata": {
        "colab": {
          "base_uri": "https://localhost:8080/",
          "height": 46
        },
        "id": "tiMViIKVzzrY",
        "outputId": "4f1bdbf7-b41d-49a5-917f-c18a9f743d92"
      },
      "execution_count": 23,
      "outputs": [
        {
          "output_type": "execute_result",
          "data": {
            "text/plain": [
              "<IPython.core.display.Markdown object>"
            ],
            "text/markdown": "- 255, 71, 900, 771 car\n"
          },
          "metadata": {},
          "execution_count": 23
        }
      ]
    }
  ]
}